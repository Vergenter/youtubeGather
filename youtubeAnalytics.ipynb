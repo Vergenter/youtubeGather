{
 "cells": [
  {
   "cell_type": "code",
   "execution_count": 3,
   "id": "43222f21",
   "metadata": {},
   "outputs": [],
   "source": [
    "from googleapiclient.discovery import build\n",
    "from googleapiclient.errors import HttpError\n",
    "import numpy as np"
   ]
  },
  {
   "cell_type": "code",
   "execution_count": 4,
   "id": "bcf47235",
   "metadata": {},
   "outputs": [],
   "source": [
    "import os\n",
    "DEVELOPER_KEY = os.environ['YOUTUBE_API_KEY_V3']\n",
    "YOUTUBE_API_SERVICE_NAME = 'youtube'\n",
    "YOUTUBE_API_VERSION = 'v3'"
   ]
  },
  {
   "cell_type": "code",
   "execution_count": 5,
   "id": "1065cfb5",
   "metadata": {},
   "outputs": [],
   "source": [
    "youtube = build(YOUTUBE_API_SERVICE_NAME, YOUTUBE_API_VERSION,developerKey=DEVELOPER_KEY)"
   ]
  },
  {
   "cell_type": "code",
   "execution_count": 6,
   "id": "0aa8d2e4",
   "metadata": {},
   "outputs": [],
   "source": [
    "#id UCT81uFyEOlrJ6UQt2bhNY3A\n",
    "request = youtube.channels().list(part='contentDetails',id=\"UCT81uFyEOlrJ6UQt2bhNY3A\")\n",
    "response = request.execute()"
   ]
  },
  {
   "cell_type": "code",
   "execution_count": 7,
   "id": "24a71bbf",
   "metadata": {},
   "outputs": [],
   "source": [
    "uploads = response[\"items\"][0][\"contentDetails\"][\"relatedPlaylists\"][\"uploads\"]"
   ]
  },
  {
   "cell_type": "code",
   "execution_count": 8,
   "id": "ac8b1821",
   "metadata": {},
   "outputs": [
    {
     "data": {
      "text/plain": [
       "'UUT81uFyEOlrJ6UQt2bhNY3A'"
      ]
     },
     "execution_count": 8,
     "metadata": {},
     "output_type": "execute_result"
    }
   ],
   "source": [
    "uploads"
   ]
  },
  {
   "cell_type": "code",
   "execution_count": 9,
   "id": "627f9e28",
   "metadata": {},
   "outputs": [
    {
     "ename": "KeyError",
     "evalue": "'videoId'",
     "output_type": "error",
     "traceback": [
      "\u001b[1;31m---------------------------------------------------------------------------\u001b[0m",
      "\u001b[1;31mKeyError\u001b[0m                                  Traceback (most recent call last)",
      "\u001b[1;32m<ipython-input-9-cfbf411c1785>\u001b[0m in \u001b[0;36m<module>\u001b[1;34m\u001b[0m\n\u001b[1;32m----> 1\u001b[1;33m \u001b[0mvideosId\u001b[0m \u001b[1;33m=\u001b[0m \u001b[0mlist\u001b[0m\u001b[1;33m(\u001b[0m\u001b[0mmap\u001b[0m\u001b[1;33m(\u001b[0m\u001b[1;32mlambda\u001b[0m \u001b[0mx\u001b[0m\u001b[1;33m:\u001b[0m \u001b[0mx\u001b[0m\u001b[1;33m[\u001b[0m\u001b[1;34m\"contentDetails\"\u001b[0m\u001b[1;33m]\u001b[0m\u001b[1;33m[\u001b[0m\u001b[1;34m\"videoId\"\u001b[0m\u001b[1;33m]\u001b[0m\u001b[1;33m,\u001b[0m\u001b[0mresponse\u001b[0m\u001b[1;33m[\u001b[0m\u001b[1;34m\"items\"\u001b[0m\u001b[1;33m]\u001b[0m\u001b[1;33m)\u001b[0m\u001b[1;33m)\u001b[0m\u001b[1;33m\u001b[0m\u001b[1;33m\u001b[0m\u001b[0m\n\u001b[0m\u001b[0;32m      2\u001b[0m \u001b[0mvideosId\u001b[0m\u001b[1;33m\u001b[0m\u001b[1;33m\u001b[0m\u001b[0m\n",
      "\u001b[1;32m<ipython-input-9-cfbf411c1785>\u001b[0m in \u001b[0;36m<lambda>\u001b[1;34m(x)\u001b[0m\n\u001b[1;32m----> 1\u001b[1;33m \u001b[0mvideosId\u001b[0m \u001b[1;33m=\u001b[0m \u001b[0mlist\u001b[0m\u001b[1;33m(\u001b[0m\u001b[0mmap\u001b[0m\u001b[1;33m(\u001b[0m\u001b[1;32mlambda\u001b[0m \u001b[0mx\u001b[0m\u001b[1;33m:\u001b[0m \u001b[0mx\u001b[0m\u001b[1;33m[\u001b[0m\u001b[1;34m\"contentDetails\"\u001b[0m\u001b[1;33m]\u001b[0m\u001b[1;33m[\u001b[0m\u001b[1;34m\"videoId\"\u001b[0m\u001b[1;33m]\u001b[0m\u001b[1;33m,\u001b[0m\u001b[0mresponse\u001b[0m\u001b[1;33m[\u001b[0m\u001b[1;34m\"items\"\u001b[0m\u001b[1;33m]\u001b[0m\u001b[1;33m)\u001b[0m\u001b[1;33m)\u001b[0m\u001b[1;33m\u001b[0m\u001b[1;33m\u001b[0m\u001b[0m\n\u001b[0m\u001b[0;32m      2\u001b[0m \u001b[0mvideosId\u001b[0m\u001b[1;33m\u001b[0m\u001b[1;33m\u001b[0m\u001b[0m\n",
      "\u001b[1;31mKeyError\u001b[0m: 'videoId'"
     ]
    }
   ],
   "source": [
    "videosId = list(map(lambda x: x[\"contentDetails\"][\"videoId\"],response[\"items\"]))\n",
    "videosId"
   ]
  },
  {
   "cell_type": "code",
   "execution_count": 10,
   "id": "3f19e7a4",
   "metadata": {},
   "outputs": [
    {
     "data": {
      "text/plain": [
       "{'kind': 'youtube#commentListResponse',\n",
       " 'etag': 'cAQ3FtGD5VZllmov_u9QfFa8HlI',\n",
       " 'pageInfo': {'resultsPerPage': 50},\n",
       " 'items': [{'kind': 'youtube#comment',\n",
       "   'etag': 'X6VuBgLyZwGl9OYD5tAb0l3kKYY',\n",
       "   'id': 'Ugy4wwYJTGPtWSribyp4AaABAg.95sHEfpA58w97RfYmvvLvF',\n",
       "   'snippet': {'textDisplay': 'Samara Morgan Obiecanka',\n",
       "    'textOriginal': 'Samara Morgan Obiecanka',\n",
       "    'parentId': 'Ugy4wwYJTGPtWSribyp4AaABAg',\n",
       "    'authorDisplayName': 'lodowy król',\n",
       "    'authorProfileImageUrl': 'https://yt3.ggpht.com/ytc/AAUvwngMeEWbiHbd97ZIMAuoUNQYrQSClRtbPxdIRoWMig=s48-c-k-c0xffffffff-no-rj-mo',\n",
       "    'authorChannelUrl': 'http://www.youtube.com/channel/UClAJSLwQIGNWnpZ1TkKBPCw',\n",
       "    'authorChannelId': {'value': 'UClAJSLwQIGNWnpZ1TkKBPCw'},\n",
       "    'canRate': True,\n",
       "    'viewerRating': 'none',\n",
       "    'likeCount': 0,\n",
       "    'publishedAt': '2020-04-14T18:28:57Z',\n",
       "    'updatedAt': '2020-04-14T18:28:57Z'}}]}"
      ]
     },
     "execution_count": 10,
     "metadata": {},
     "output_type": "execute_result"
    }
   ],
   "source": [
    "#id UCT81uFyEOlrJ6UQt2bhNY3A\n",
    "request = youtube.comments().list(part='snippet',parentId=\"Ugy4wwYJTGPtWSribyp4AaABAg\",maxResults=50)\n",
    "response = request.execute()\n",
    "response"
   ]
  },
  {
   "cell_type": "code",
   "execution_count": 11,
   "id": "077757c5",
   "metadata": {},
   "outputs": [
    {
     "data": {
      "text/plain": [
       "{'kind': 'youtube#comment',\n",
       " 'etag': 'X6VuBgLyZwGl9OYD5tAb0l3kKYY',\n",
       " 'id': 'Ugy4wwYJTGPtWSribyp4AaABAg.95sHEfpA58w97RfYmvvLvF',\n",
       " 'snippet': {'textDisplay': 'Samara Morgan Obiecanka',\n",
       "  'textOriginal': 'Samara Morgan Obiecanka',\n",
       "  'parentId': 'Ugy4wwYJTGPtWSribyp4AaABAg',\n",
       "  'authorDisplayName': 'lodowy król',\n",
       "  'authorProfileImageUrl': 'https://yt3.ggpht.com/ytc/AAUvwngMeEWbiHbd97ZIMAuoUNQYrQSClRtbPxdIRoWMig=s48-c-k-c0xffffffff-no-rj-mo',\n",
       "  'authorChannelUrl': 'http://www.youtube.com/channel/UClAJSLwQIGNWnpZ1TkKBPCw',\n",
       "  'authorChannelId': {'value': 'UClAJSLwQIGNWnpZ1TkKBPCw'},\n",
       "  'canRate': True,\n",
       "  'viewerRating': 'none',\n",
       "  'likeCount': 0,\n",
       "  'publishedAt': '2020-04-14T18:28:57Z',\n",
       "  'updatedAt': '2020-04-14T18:28:57Z'}}"
      ]
     },
     "execution_count": 11,
     "metadata": {},
     "output_type": "execute_result"
    }
   ],
   "source": [
    "response[\"items\"][0]"
   ]
  },
  {
   "cell_type": "code",
   "execution_count": 7,
   "id": "f6f38cb5",
   "metadata": {},
   "outputs": [
    {
     "ename": "KeyError",
     "evalue": "'contentDetails'",
     "output_type": "error",
     "traceback": [
      "\u001b[1;31m---------------------------------------------------------------------------\u001b[0m",
      "\u001b[1;31mKeyError\u001b[0m                                  Traceback (most recent call last)",
      "\u001b[1;32m<ipython-input-7-cfbf411c1785>\u001b[0m in \u001b[0;36m<module>\u001b[1;34m\u001b[0m\n\u001b[1;32m----> 1\u001b[1;33m \u001b[0mvideosId\u001b[0m \u001b[1;33m=\u001b[0m \u001b[0mlist\u001b[0m\u001b[1;33m(\u001b[0m\u001b[0mmap\u001b[0m\u001b[1;33m(\u001b[0m\u001b[1;32mlambda\u001b[0m \u001b[0mx\u001b[0m\u001b[1;33m:\u001b[0m \u001b[0mx\u001b[0m\u001b[1;33m[\u001b[0m\u001b[1;34m\"contentDetails\"\u001b[0m\u001b[1;33m]\u001b[0m\u001b[1;33m[\u001b[0m\u001b[1;34m\"videoId\"\u001b[0m\u001b[1;33m]\u001b[0m\u001b[1;33m,\u001b[0m\u001b[0mresponse\u001b[0m\u001b[1;33m[\u001b[0m\u001b[1;34m\"items\"\u001b[0m\u001b[1;33m]\u001b[0m\u001b[1;33m)\u001b[0m\u001b[1;33m)\u001b[0m\u001b[1;33m\u001b[0m\u001b[1;33m\u001b[0m\u001b[0m\n\u001b[0m\u001b[0;32m      2\u001b[0m \u001b[0mvideosId\u001b[0m\u001b[1;33m\u001b[0m\u001b[1;33m\u001b[0m\u001b[0m\n",
      "\u001b[1;32m<ipython-input-7-cfbf411c1785>\u001b[0m in \u001b[0;36m<lambda>\u001b[1;34m(x)\u001b[0m\n\u001b[1;32m----> 1\u001b[1;33m \u001b[0mvideosId\u001b[0m \u001b[1;33m=\u001b[0m \u001b[0mlist\u001b[0m\u001b[1;33m(\u001b[0m\u001b[0mmap\u001b[0m\u001b[1;33m(\u001b[0m\u001b[1;32mlambda\u001b[0m \u001b[0mx\u001b[0m\u001b[1;33m:\u001b[0m \u001b[0mx\u001b[0m\u001b[1;33m[\u001b[0m\u001b[1;34m\"contentDetails\"\u001b[0m\u001b[1;33m]\u001b[0m\u001b[1;33m[\u001b[0m\u001b[1;34m\"videoId\"\u001b[0m\u001b[1;33m]\u001b[0m\u001b[1;33m,\u001b[0m\u001b[0mresponse\u001b[0m\u001b[1;33m[\u001b[0m\u001b[1;34m\"items\"\u001b[0m\u001b[1;33m]\u001b[0m\u001b[1;33m)\u001b[0m\u001b[1;33m)\u001b[0m\u001b[1;33m\u001b[0m\u001b[1;33m\u001b[0m\u001b[0m\n\u001b[0m\u001b[0;32m      2\u001b[0m \u001b[0mvideosId\u001b[0m\u001b[1;33m\u001b[0m\u001b[1;33m\u001b[0m\u001b[0m\n",
      "\u001b[1;31mKeyError\u001b[0m: 'contentDetails'"
     ]
    }
   ],
   "source": []
  },
  {
   "cell_type": "code",
   "execution_count": 12,
   "id": "404bfe84",
   "metadata": {},
   "outputs": [],
   "source": [
    "def toComments(response):\n",
    "    return np.array(list(map(lambda x: x[\"snippet\"],response[\"items\"])))\n",
    "pageToken=\"\"\n",
    "request = youtube.commentThreads().list(allThreadsRelatedToChannelId= \"UCT81uFyEOlrJ6UQt2bhNY3A\", part=\"snippet\",pageToken=pageToken,maxResults=48)\n",
    "response = request.execute()"
   ]
  },
  {
   "cell_type": "code",
   "execution_count": 13,
   "id": "d668c1d0",
   "metadata": {},
   "outputs": [],
   "source": [
    "comments = toComments(response)\n",
    "result = np.array([])"
   ]
  },
  {
   "cell_type": "code",
   "execution_count": 14,
   "id": "2f58a26c",
   "metadata": {},
   "outputs": [
    {
     "name": "stdout",
     "output_type": "stream",
     "text": [
      "True\n",
      "False\n"
     ]
    }
   ],
   "source": [
    "while \"nextPageToken\" in response:\n",
    "    pageToken=response[\"nextPageToken\"]\n",
    "    request = youtube.commentThreads().list(part=\"snippet\",allThreadsRelatedToChannelId= \"UCT81uFyEOlrJ6UQt2bhNY3A\",pageToken=response[\"nextPageToken\"],maxResults=48)\n",
    "    response = request.execute()\n",
    "    comments = np.append(comments,toComments(response))\n",
    "    print (\"nextPageToken\" in response)"
   ]
  },
  {
   "cell_type": "code",
   "execution_count": 15,
   "id": "44a6a26a",
   "metadata": {},
   "outputs": [
    {
     "data": {
      "text/plain": [
       "(99,)"
      ]
     },
     "execution_count": 15,
     "metadata": {},
     "output_type": "execute_result"
    }
   ],
   "source": [
    "np.shape(comments)"
   ]
  },
  {
   "cell_type": "code",
   "execution_count": 16,
   "id": "a1f4467c",
   "metadata": {},
   "outputs": [
    {
     "name": "stdout",
     "output_type": "stream",
     "text": [
      "[0, 0, 0, 1, 0, 0, 0, 0, 0, 1, 0, 0, 0, 0, 0, 0, 0, 0, 0, 0, 0, 0, 1, 0, 1, 0, 0, 0, 0, 0, 0, 0, 0, 0, 0, 0, 0, 0, 0, 0, 0, 0, 0, 0, 2, 0, 0, 0, 0, 0, 1, 0, 0, 8, 2, 0, 2, 2, 0, 0, 2, 0, 0, 0, 2, 2, 1, 0, 0, 0, 0, 0, 1, 0, 4, 1, 4, 0, 2, 0, 0, 0, 0, 0, 0, 1, 0, 0, 1, 2, 0, 1, 0, 1, 0, 0, 1, 0, 0]\n"
     ]
    }
   ],
   "source": [
    "print(list(map(lambda x: x[\"totalReplyCount\"],comments)))"
   ]
  },
  {
   "cell_type": "code",
   "execution_count": 17,
   "id": "403ac6c1",
   "metadata": {},
   "outputs": [],
   "source": [
    "# 8 replies comment Ugg0wWRQ7ZwDYngCoAEC\n",
    "request = youtube.comments().list(parentId= \"Ugg0wWRQ7ZwDYngCoAEC\", part=\"snippet\")\n",
    "response = request.execute()"
   ]
  },
  {
   "cell_type": "code",
   "execution_count": 18,
   "id": "a9d559bd",
   "metadata": {},
   "outputs": [
    {
     "data": {
      "text/plain": [
       "{'kind': 'youtube#commentListResponse',\n",
       " 'etag': 'zmwzn-zx9rlEH8XpnyUnp5T-Q4E',\n",
       " 'pageInfo': {'resultsPerPage': 20},\n",
       " 'items': [{'kind': 'youtube#comment',\n",
       "   'etag': '5c6MDT9aetHfdVZ3EIfiMwEqWw4',\n",
       "   'id': 'Ugg0wWRQ7ZwDYngCoAEC.8Md31v7kDvE97RfQ_iHjO1',\n",
       "   'snippet': {'textDisplay': 'Tak bardzo',\n",
       "    'textOriginal': 'Tak bardzo',\n",
       "    'parentId': 'Ugg0wWRQ7ZwDYngCoAEC',\n",
       "    'authorDisplayName': 'lodowy król',\n",
       "    'authorProfileImageUrl': 'https://yt3.ggpht.com/ytc/AAUvwngMeEWbiHbd97ZIMAuoUNQYrQSClRtbPxdIRoWMig=s48-c-k-c0xffffffff-no-rj-mo',\n",
       "    'authorChannelUrl': 'http://www.youtube.com/channel/UClAJSLwQIGNWnpZ1TkKBPCw',\n",
       "    'authorChannelId': {'value': 'UClAJSLwQIGNWnpZ1TkKBPCw'},\n",
       "    'canRate': True,\n",
       "    'viewerRating': 'none',\n",
       "    'likeCount': 1,\n",
       "    'publishedAt': '2020-04-14T18:27:50Z',\n",
       "    'updatedAt': '2020-04-14T18:27:50Z'}},\n",
       "  {'kind': 'youtube#comment',\n",
       "   'etag': 'GXjt8mjamzl1EtGBMd_YQqfl_Uo',\n",
       "   'id': 'Ugg0wWRQ7ZwDYngCoAEC.8Md31v7kDvE96hMkJxeoWD',\n",
       "   'snippet': {'textDisplay': 'No bardzo mi też go szkoda😭😭.',\n",
       "    'textOriginal': 'No bardzo mi też go szkoda😭😭.',\n",
       "    'parentId': 'Ugg0wWRQ7ZwDYngCoAEC',\n",
       "    'authorDisplayName': 'Patryk Ruttek',\n",
       "    'authorProfileImageUrl': 'https://yt3.ggpht.com/ytc/AAUvwniLXMwrXoMUzyETMOv7WIYQV88jHaM1HzFJHQ=s48-c-k-c0xffffffff-no-rj-mo',\n",
       "    'authorChannelUrl': 'http://www.youtube.com/channel/UC4nV_wK09B5FrKysNwk0rhg',\n",
       "    'authorChannelId': {'value': 'UC4nV_wK09B5FrKysNwk0rhg'},\n",
       "    'canRate': True,\n",
       "    'viewerRating': 'none',\n",
       "    'likeCount': 2,\n",
       "    'publishedAt': '2020-03-27T09:31:36Z',\n",
       "    'updatedAt': '2020-03-27T09:31:36Z'}},\n",
       "  {'kind': 'youtube#comment',\n",
       "   'etag': 'mlTaXsSYFKmHqyYY7IpgWFlHRH8',\n",
       "   'id': 'Ugg0wWRQ7ZwDYngCoAEC.8Md31v7kDvE8qYD3iN5Er8',\n",
       "   'snippet': {'textDisplay': 'Śmieszna piosenka można się uśmiać aż po pachy',\n",
       "    'textOriginal': 'Śmieszna piosenka można się uśmiać aż po pachy',\n",
       "    'parentId': 'Ugg0wWRQ7ZwDYngCoAEC',\n",
       "    'authorDisplayName': 'm r',\n",
       "    'authorProfileImageUrl': 'https://yt3.ggpht.com/ytc/AAUvwnhEBI0NlDL1KU6ZWtwl_baP-qmr5TKcZxJdTA=s48-c-k-c0xffffffff-no-rj-mo',\n",
       "    'authorChannelUrl': 'http://www.youtube.com/channel/UCa8x_Q8boV5ZBfsmM8yfZCw',\n",
       "    'authorChannelId': {'value': 'UCa8x_Q8boV5ZBfsmM8yfZCw'},\n",
       "    'canRate': True,\n",
       "    'viewerRating': 'none',\n",
       "    'likeCount': 2,\n",
       "    'publishedAt': '2019-01-25T22:00:54Z',\n",
       "    'updatedAt': '2019-01-25T22:00:54Z'}},\n",
       "  {'kind': 'youtube#comment',\n",
       "   'etag': 'o-eKxwE6-4g4zGGOCNV3G0pF-Nk',\n",
       "   'id': 'Ugg0wWRQ7ZwDYngCoAEC.8Md31v7kDvE8jvHR55fi0P',\n",
       "   'snippet': {'textDisplay': 'GBT 100% racja',\n",
       "    'textOriginal': 'GBT 100% racja',\n",
       "    'parentId': 'Ugg0wWRQ7ZwDYngCoAEC',\n",
       "    'authorDisplayName': 'BONIO YT',\n",
       "    'authorProfileImageUrl': 'https://yt3.ggpht.com/ytc/AAUvwnhrSPi6xB9dB3_HZ2vuo8nTk4Kzi2D_4YU8-A=s48-c-k-c0xffffffff-no-rj-mo',\n",
       "    'authorChannelUrl': 'http://www.youtube.com/channel/UCaoYmWasL08gjcY3-letWiw',\n",
       "    'authorChannelId': {'value': 'UCaoYmWasL08gjcY3-letWiw'},\n",
       "    'canRate': True,\n",
       "    'viewerRating': 'none',\n",
       "    'likeCount': 4,\n",
       "    'publishedAt': '2018-08-14T06:41:03Z',\n",
       "    'updatedAt': '2018-08-14T06:41:03Z'}},\n",
       "  {'kind': 'youtube#comment',\n",
       "   'etag': 'TDX78NcQzonsUMPVBi5lwaUZvCQ',\n",
       "   'id': 'Ugg0wWRQ7ZwDYngCoAEC.8Md31v7kDvE8aEgtm_d83v',\n",
       "   'snippet': {'textDisplay': 'No😑😑😥😞',\n",
       "    'textOriginal': 'No😑😑😥😞',\n",
       "    'parentId': 'Ugg0wWRQ7ZwDYngCoAEC',\n",
       "    'authorDisplayName': 'Jan Czyz',\n",
       "    'authorProfileImageUrl': 'https://yt3.ggpht.com/ytc/AAUvwnjxyAoQf_MlG0HUcWpj531ldGOD63vYAfvIXA=s48-c-k-c0xffffffff-no-rj-mo',\n",
       "    'authorChannelUrl': 'http://www.youtube.com/channel/UCepMr-cRo3FrjFkeLvoGwxg',\n",
       "    'authorChannelId': {'value': 'UCepMr-cRo3FrjFkeLvoGwxg'},\n",
       "    'canRate': True,\n",
       "    'viewerRating': 'none',\n",
       "    'likeCount': 4,\n",
       "    'publishedAt': '2017-12-16T15:43:09Z',\n",
       "    'updatedAt': '2017-12-16T15:43:09Z'}},\n",
       "  {'kind': 'youtube#comment',\n",
       "   'etag': 'ns2JpYuD7RNXeVPHzYuJ7tDcrd4',\n",
       "   'id': 'Ugg0wWRQ7ZwDYngCoAEC.8Md31v7kDvE8XtkcjDNaRk',\n",
       "   'snippet': {'textDisplay': 'Lulek Fifa17 A jakże',\n",
       "    'textOriginal': 'Lulek Fifa17 A jakże',\n",
       "    'parentId': 'Ugg0wWRQ7ZwDYngCoAEC',\n",
       "    'authorDisplayName': 'Gall Anonim',\n",
       "    'authorProfileImageUrl': 'https://yt3.ggpht.com/ytc/AAUvwni98SBg4mAEg6voMLmX8sS6cD8_mugVQT4-kt8rkg=s48-c-k-c0xffffffff-no-rj-mo',\n",
       "    'authorChannelUrl': 'http://www.youtube.com/channel/UCN-xUhZ7mrhF7HN7adbW4Gg',\n",
       "    'authorChannelId': {'value': 'UCN-xUhZ7mrhF7HN7adbW4Gg'},\n",
       "    'canRate': True,\n",
       "    'viewerRating': 'none',\n",
       "    'likeCount': 4,\n",
       "    'publishedAt': '2017-09-24T13:38:19Z',\n",
       "    'updatedAt': '2017-09-24T13:38:19Z'}},\n",
       "  {'kind': 'youtube#comment',\n",
       "   'etag': 'qFDjIHoU3jhqRCzX3pfht6WK8zs',\n",
       "   'id': 'Ugg0wWRQ7ZwDYngCoAEC.8Md31v7kDvE8ObeEk3akAo',\n",
       "   'snippet': {'textDisplay': 'Krzych 13 Tak szkoda go',\n",
       "    'textOriginal': 'Krzych 13 Tak szkoda go',\n",
       "    'parentId': 'Ugg0wWRQ7ZwDYngCoAEC',\n",
       "    'authorDisplayName': 'Janusz',\n",
       "    'authorProfileImageUrl': 'https://yt3.ggpht.com/ytc/AAUvwnhDt-P7lHfvhMBIctAQcwPcN9kjEhvAjEVOADZgrQ=s48-c-k-c0xffffffff-no-rj-mo',\n",
       "    'authorChannelUrl': 'http://www.youtube.com/channel/UCik4sTmFCik5N6Uyb_1_PXA',\n",
       "    'authorChannelId': {'value': 'UCik4sTmFCik5N6Uyb_1_PXA'},\n",
       "    'canRate': True,\n",
       "    'viewerRating': 'none',\n",
       "    'likeCount': 6,\n",
       "    'publishedAt': '2017-02-05T20:13:36Z',\n",
       "    'updatedAt': '2017-02-05T20:13:36Z'}},\n",
       "  {'kind': 'youtube#comment',\n",
       "   'etag': '_wKtp0WdpGcia7kr9DBuJngqVtg',\n",
       "   'id': 'Ugg0wWRQ7ZwDYngCoAEC.8Md31v7kDvE8NOyC5_8qUX',\n",
       "   'snippet': {'textDisplay': 'Krzych 13 no bardzo',\n",
       "    'textOriginal': 'Krzych 13 no bardzo',\n",
       "    'parentId': 'Ugg0wWRQ7ZwDYngCoAEC',\n",
       "    'authorDisplayName': 'Nati Cool TV',\n",
       "    'authorProfileImageUrl': 'https://yt3.ggpht.com/ytc/AAUvwngmgcMQBkbtsKdQJy09nJrT2aOJbg5U-sYshwid=s48-c-k-c0xffffffff-no-rj-mo',\n",
       "    'authorChannelUrl': 'http://www.youtube.com/channel/UCdbCf54FgZrIpDGe0ztEEvQ',\n",
       "    'authorChannelId': {'value': 'UCdbCf54FgZrIpDGe0ztEEvQ'},\n",
       "    'canRate': True,\n",
       "    'viewerRating': 'none',\n",
       "    'likeCount': 6,\n",
       "    'publishedAt': '2017-01-06T16:07:14Z',\n",
       "    'updatedAt': '2017-01-06T16:07:14Z'}}]}"
      ]
     },
     "execution_count": 18,
     "metadata": {},
     "output_type": "execute_result"
    }
   ],
   "source": [
    "response"
   ]
  },
  {
   "cell_type": "code",
   "execution_count": null,
   "id": "70d3d2f0",
   "metadata": {},
   "outputs": [],
   "source": [
    "request = youtube.channels().list(part='contentDetails,topicDetails,statistics,status,brandingSettings',forUsername=\"Media2000Corp\")\n",
    "response = request.execute()\n",
    "response"
   ]
  },
  {
   "cell_type": "code",
   "execution_count": null,
   "id": "04c58fd5",
   "metadata": {},
   "outputs": [],
   "source": [
    "request = youtube.channels().list(part='contentDetails,topicDetails,statistics,status,brandingSettings',id=\"UCQHX6ViZmPsWiYSFAyS0a3Q\")\n",
    "response = request.execute()\n",
    "response"
   ]
  },
  {
   "cell_type": "code",
   "execution_count": 19,
   "id": "ae27440f",
   "metadata": {},
   "outputs": [],
   "source": [
    "def get_youtuber_details(yt_id):\n",
    "    request = youtube.channels().list(part='contentDetails,topicDetails,statistics,status,brandingSettings',id=yt_id)\n",
    "    return request.execute()"
   ]
  },
  {
   "cell_type": "code",
   "execution_count": null,
   "id": "1455581d",
   "metadata": {},
   "outputs": [],
   "source": [
    "get_youtuber_details(\"UCLr4hMhk_2KE0GUBSBrspGA\")"
   ]
  },
  {
   "cell_type": "code",
   "execution_count": null,
   "id": "9159667f",
   "metadata": {},
   "outputs": [],
   "source": [
    "get_youtuber_details(\"UC7dF9qfBMXrSlaaFFDvV_Yg\")"
   ]
  },
  {
   "cell_type": "code",
   "execution_count": null,
   "id": "9cafcf39",
   "metadata": {},
   "outputs": [],
   "source": [
    "get_youtuber_details(\"UCwqNP1r17-2xJFweoACbW8g\")[\"items\"][0][\"topicDetails\"]"
   ]
  },
  {
   "cell_type": "code",
   "execution_count": 20,
   "id": "b3b9e69f",
   "metadata": {},
   "outputs": [
    {
     "data": {
      "text/plain": [
       "{'topicIds': ['/m/0bzvm2',\n",
       "  '/m/03hf_rm',\n",
       "  '/m/025zzc',\n",
       "  '/m/0403l3g',\n",
       "  '/m/02ntfj'],\n",
       " 'topicCategories': ['https://en.wikipedia.org/wiki/Video_game_culture',\n",
       "  'https://en.wikipedia.org/wiki/Strategy_video_game',\n",
       "  'https://en.wikipedia.org/wiki/Action_game',\n",
       "  'https://en.wikipedia.org/wiki/Role-playing_video_game',\n",
       "  'https://en.wikipedia.org/wiki/Action-adventure_game']}"
      ]
     },
     "execution_count": 20,
     "metadata": {},
     "output_type": "execute_result"
    }
   ],
   "source": [
    "get_youtuber_details(\"UCaXklPDifVyCBB352y2_QFQ\")[\"items\"][0][\"topicDetails\"]"
   ]
  },
  {
   "cell_type": "code",
   "execution_count": 42,
   "id": "50ce526d",
   "metadata": {},
   "outputs": [],
   "source": [
    "request = youtube.channels().list(part='contentDetails',id=\"UCaXklPDifVyCBB352y2_QFQ\")\n",
    "response = request.execute()\n",
    "uploads = response[\"items\"][0][\"contentDetails\"][\"relatedPlaylists\"][\"uploads\"]"
   ]
  },
  {
   "cell_type": "code",
   "execution_count": 49,
   "id": "89dee4f1",
   "metadata": {},
   "outputs": [],
   "source": [
    "request = youtube.playlistItems().list(part=\"id,contentDetails\",playlistId=uploads)\n",
    "response = request.execute()"
   ]
  },
  {
   "cell_type": "code",
   "execution_count": 50,
   "id": "6fe0472f",
   "metadata": {},
   "outputs": [
    {
     "data": {
      "text/plain": [
       "{'kind': 'youtube#playlistItemListResponse',\n",
       " 'etag': 'N9-IK888tiwvZ6Rpp7F3wo4NMKQ',\n",
       " 'nextPageToken': 'CAUQAA',\n",
       " 'items': [{'kind': 'youtube#playlistItem',\n",
       "   'etag': 'fKrFV9oJrdVTOkpxFuHJgw5SOnc',\n",
       "   'id': 'VVVhWGtsUERpZlZ5Q0JCMzUyeTJfUUZRLmYyWktfTXBCUkxN',\n",
       "   'contentDetails': {'videoId': 'f2ZK_MpBRLM',\n",
       "    'videoPublishedAt': '2021-04-19T12:10:21Z'}},\n",
       "  {'kind': 'youtube#playlistItem',\n",
       "   'etag': 'KMOZnPdBX3K9FsefKeNp5Z1Xrjg',\n",
       "   'id': 'VVVhWGtsUERpZlZ5Q0JCMzUyeTJfUUZRLmVmX0J5SDhiSkJ3',\n",
       "   'contentDetails': {'videoId': 'ef_ByH8bJBw',\n",
       "    'videoPublishedAt': '2021-04-16T11:39:45Z'}},\n",
       "  {'kind': 'youtube#playlistItem',\n",
       "   'etag': 'qxR1VokaYKxeO4CTGclyIkv38kA',\n",
       "   'id': 'VVVhWGtsUERpZlZ5Q0JCMzUyeTJfUUZRLkMwTWFmanVDd3VN',\n",
       "   'contentDetails': {'videoId': 'C0MafjuCwuM',\n",
       "    'videoPublishedAt': '2021-04-12T12:43:40Z'}},\n",
       "  {'kind': 'youtube#playlistItem',\n",
       "   'etag': 'cm8HF_3DDGCzsvcPrEnx_heKb0Q',\n",
       "   'id': 'VVVhWGtsUERpZlZ5Q0JCMzUyeTJfUUZRLmpTUlhyTXJSZ2xr',\n",
       "   'contentDetails': {'videoId': 'jSRXrMrRglk',\n",
       "    'videoPublishedAt': '2021-04-09T12:29:22Z'}},\n",
       "  {'kind': 'youtube#playlistItem',\n",
       "   'etag': 'nLrFruen7QQjhetaUqCvEdWaOZk',\n",
       "   'id': 'VVVhWGtsUERpZlZ5Q0JCMzUyeTJfUUZRLmpETWFBd295d3Iw',\n",
       "   'contentDetails': {'videoId': 'jDMaAwoywr0',\n",
       "    'videoPublishedAt': '2021-04-06T12:20:22Z'}}],\n",
       " 'pageInfo': {'totalResults': 398, 'resultsPerPage': 5}}"
      ]
     },
     "execution_count": 50,
     "metadata": {},
     "output_type": "execute_result"
    }
   ],
   "source": [
    "response"
   ]
  },
  {
   "cell_type": "code",
   "execution_count": 51,
   "id": "3db210ee",
   "metadata": {},
   "outputs": [],
   "source": [
    "someId = response['items'][0]['contentDetails']['videoId']"
   ]
  },
  {
   "cell_type": "code",
   "execution_count": 52,
   "id": "6686ff95",
   "metadata": {},
   "outputs": [
    {
     "data": {
      "text/plain": [
       "'f2ZK_MpBRLM'"
      ]
     },
     "execution_count": 52,
     "metadata": {},
     "output_type": "execute_result"
    }
   ],
   "source": [
    "someId"
   ]
  },
  {
   "cell_type": "code",
   "execution_count": 54,
   "id": "c57aed32",
   "metadata": {},
   "outputs": [
    {
     "data": {
      "text/plain": [
       "{'kind': 'youtube#videoListResponse',\n",
       " 'etag': 'ezuNIPLqZL8ZxtqJwwPp5uGeAME',\n",
       " 'items': [{'kind': 'youtube#video',\n",
       "   'etag': '6fJZNg_ill7xo7Qwoh0hr0mWZUk',\n",
       "   'id': 'f2ZK_MpBRLM',\n",
       "   'contentDetails': {'duration': 'PT5M12S',\n",
       "    'dimension': '2d',\n",
       "    'definition': 'hd',\n",
       "    'caption': 'false',\n",
       "    'licensedContent': True,\n",
       "    'contentRating': {},\n",
       "    'projection': 'rectangular'},\n",
       "   'status': {'uploadStatus': 'processed',\n",
       "    'privacyStatus': 'public',\n",
       "    'license': 'youtube',\n",
       "    'embeddable': True,\n",
       "    'publicStatsViewable': True,\n",
       "    'madeForKids': False},\n",
       "   'statistics': {'viewCount': '12594',\n",
       "    'likeCount': '971',\n",
       "    'dislikeCount': '19',\n",
       "    'favoriteCount': '0',\n",
       "    'commentCount': '38'},\n",
       "   'topicDetails': {'topicCategories': ['https://en.wikipedia.org/wiki/Action-adventure_game',\n",
       "     'https://en.wikipedia.org/wiki/Action_game',\n",
       "     'https://en.wikipedia.org/wiki/Role-playing_video_game',\n",
       "     'https://en.wikipedia.org/wiki/Strategy_video_game',\n",
       "     'https://en.wikipedia.org/wiki/Video_game_culture']},\n",
       "   'recordingDetails': {}}],\n",
       " 'pageInfo': {'totalResults': 1, 'resultsPerPage': 1}}"
      ]
     },
     "execution_count": 54,
     "metadata": {},
     "output_type": "execute_result"
    }
   ],
   "source": [
    "request = youtube.videos().list(part='contentDetails,recordingDetails,statistics,status,topicDetails',id=someId)\n",
    "response = request.execute()\n",
    "response"
   ]
  },
  {
   "cell_type": "code",
   "execution_count": null,
   "id": "840f3ddc",
   "metadata": {},
   "outputs": [],
   "source": []
  }
 ],
 "metadata": {
  "kernelspec": {
   "display_name": "Python 3",
   "language": "python",
   "name": "python3"
  },
  "language_info": {
   "codemirror_mode": {
    "name": "ipython",
    "version": 3
   },
   "file_extension": ".py",
   "mimetype": "text/x-python",
   "name": "python",
   "nbconvert_exporter": "python",
   "pygments_lexer": "ipython3",
   "version": "3.7.10"
  }
 },
 "nbformat": 4,
 "nbformat_minor": 5
}
