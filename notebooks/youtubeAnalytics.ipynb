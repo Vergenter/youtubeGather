{
 "cells": [
  {
   "cell_type": "code",
   "execution_count": 1,
   "id": "43222f21",
   "metadata": {},
   "outputs": [],
   "source": [
    "from googleapiclient.discovery import build\n",
    "from googleapiclient.errors import HttpError\n",
    "import numpy as np"
   ]
  },
  {
   "cell_type": "code",
   "execution_count": 2,
   "id": "bcf47235",
   "metadata": {},
   "outputs": [],
   "source": [
    "import os\n",
    "DEVELOPER_KEY = os.environ['YOUTUBE_API_KEY_V3']\n",
    "YOUTUBE_API_SERVICE_NAME = 'youtube'\n",
    "YOUTUBE_API_VERSION = 'v3'"
   ]
  },
  {
   "cell_type": "code",
   "execution_count": null,
   "id": "1065cfb5",
   "metadata": {},
   "outputs": [],
   "source": [
    "youtube = build(YOUTUBE_API_SERVICE_NAME, YOUTUBE_API_VERSION,developerKey=DEVELOPER_KEY)"
   ]
  },
  {
   "cell_type": "code",
   "execution_count": null,
   "id": "0aa8d2e4",
   "metadata": {},
   "outputs": [],
   "source": [
    "#id UCT81uFyEOlrJ6UQt2bhNY3A\n",
    "request = youtube.channels().list(part='contentDetails',id=\"UCT81uFyEOlrJ6UQt2bhNY3A\")\n",
    "response = request.execute()"
   ]
  },
  {
   "cell_type": "code",
   "execution_count": null,
   "id": "24a71bbf",
   "metadata": {},
   "outputs": [],
   "source": [
    "uploads = response[\"items\"][0][\"contentDetails\"][\"relatedPlaylists\"][\"uploads\"]"
   ]
  },
  {
   "cell_type": "code",
   "execution_count": null,
   "id": "ac8b1821",
   "metadata": {},
   "outputs": [],
   "source": [
    "uploads"
   ]
  },
  {
   "cell_type": "code",
   "execution_count": null,
   "id": "627f9e28",
   "metadata": {},
   "outputs": [],
   "source": [
    "videosId = list(map(lambda x: x[\"contentDetails\"][\"videoId\"],response[\"items\"]))\n",
    "videosId"
   ]
  },
  {
   "cell_type": "code",
   "execution_count": null,
   "id": "3f19e7a4",
   "metadata": {},
   "outputs": [],
   "source": [
    "#id UCT81uFyEOlrJ6UQt2bhNY3A\n",
    "request = youtube.comments().list(part='snippet',parentId=\"Ugy4wwYJTGPtWSribyp4AaABAg\",maxResults=50)\n",
    "response = request.execute()\n",
    "response"
   ]
  },
  {
   "cell_type": "code",
   "execution_count": null,
   "id": "077757c5",
   "metadata": {},
   "outputs": [],
   "source": [
    "response[\"items\"][0]"
   ]
  },
  {
   "cell_type": "code",
   "execution_count": null,
   "id": "f6f38cb5",
   "metadata": {},
   "outputs": [],
   "source": []
  },
  {
   "cell_type": "code",
   "execution_count": null,
   "id": "404bfe84",
   "metadata": {},
   "outputs": [],
   "source": [
    "def toComments(response):\n",
    "    return np.array(list(map(lambda x: x[\"snippet\"],response[\"items\"])))\n",
    "pageToken=\"\"\n",
    "request = youtube.commentThreads().list(allThreadsRelatedToChannelId= \"UCT81uFyEOlrJ6UQt2bhNY3A\", part=\"snippet\",pageToken=pageToken,maxResults=48)\n",
    "response = request.execute()"
   ]
  },
  {
   "cell_type": "code",
   "execution_count": null,
   "id": "d668c1d0",
   "metadata": {},
   "outputs": [],
   "source": [
    "comments = toComments(response)\n",
    "result = np.array([])"
   ]
  },
  {
   "cell_type": "code",
   "execution_count": null,
   "id": "2f58a26c",
   "metadata": {},
   "outputs": [],
   "source": [
    "while \"nextPageToken\" in response:\n",
    "    pageToken=response[\"nextPageToken\"]\n",
    "    request = youtube.commentThreads().list(part=\"snippet\",allThreadsRelatedToChannelId= \"UCT81uFyEOlrJ6UQt2bhNY3A\",pageToken=response[\"nextPageToken\"],maxResults=48)\n",
    "    response = request.execute()\n",
    "    comments = np.append(comments,toComments(response))\n",
    "    print (\"nextPageToken\" in response)"
   ]
  },
  {
   "cell_type": "code",
   "execution_count": null,
   "id": "44a6a26a",
   "metadata": {},
   "outputs": [],
   "source": [
    "np.shape(comments)"
   ]
  },
  {
   "cell_type": "code",
   "execution_count": null,
   "id": "a1f4467c",
   "metadata": {},
   "outputs": [],
   "source": [
    "print(list(map(lambda x: x[\"totalReplyCount\"],comments)))"
   ]
  },
  {
   "cell_type": "code",
   "execution_count": null,
   "id": "403ac6c1",
   "metadata": {},
   "outputs": [],
   "source": [
    "# 8 replies comment Ugg0wWRQ7ZwDYngCoAEC\n",
    "request = youtube.comments().list(parentId= \"Ugg0wWRQ7ZwDYngCoAEC\", part=\"snippet\")\n",
    "response = request.execute()"
   ]
  },
  {
   "cell_type": "code",
   "execution_count": null,
   "id": "a9d559bd",
   "metadata": {},
   "outputs": [],
   "source": [
    "response"
   ]
  },
  {
   "cell_type": "code",
   "execution_count": null,
   "id": "70d3d2f0",
   "metadata": {},
   "outputs": [],
   "source": [
    "request = youtube.channels().list(part='contentDetails,topicDetails,statistics,status,brandingSettings',forUsername=\"Media2000Corp\")\n",
    "response = request.execute()\n",
    "response"
   ]
  },
  {
   "cell_type": "code",
   "execution_count": null,
   "id": "04c58fd5",
   "metadata": {},
   "outputs": [],
   "source": [
    "request = youtube.channels().list(part='contentDetails,topicDetails,statistics,status,brandingSettings',id=\"UCQHX6ViZmPsWiYSFAyS0a3Q\")\n",
    "response = request.execute()\n",
    "response"
   ]
  },
  {
   "cell_type": "code",
   "execution_count": null,
   "id": "ae27440f",
   "metadata": {},
   "outputs": [],
   "source": [
    "def get_youtuber_details(yt_id):\n",
    "    request = youtube.channels().list(part='contentDetails,topicDetails,statistics,status,brandingSettings',id=yt_id)\n",
    "    return request.execute()"
   ]
  },
  {
   "cell_type": "code",
   "execution_count": null,
   "id": "1455581d",
   "metadata": {},
   "outputs": [],
   "source": [
    "get_youtuber_details(\"UCLr4hMhk_2KE0GUBSBrspGA\")"
   ]
  },
  {
   "cell_type": "code",
   "execution_count": null,
   "id": "9159667f",
   "metadata": {},
   "outputs": [],
   "source": [
    "get_youtuber_details(\"UC7dF9qfBMXrSlaaFFDvV_Yg\")"
   ]
  },
  {
   "cell_type": "code",
   "execution_count": null,
   "id": "9cafcf39",
   "metadata": {},
   "outputs": [],
   "source": [
    "get_youtuber_details(\"UCwqNP1r17-2xJFweoACbW8g\")[\"items\"][0][\"topicDetails\"]"
   ]
  },
  {
   "cell_type": "code",
   "execution_count": null,
   "id": "b3b9e69f",
   "metadata": {},
   "outputs": [],
   "source": [
    "get_youtuber_details(\"UCaXklPDifVyCBB352y2_QFQ\")[\"items\"][0][\"topicDetails\"]"
   ]
  },
  {
   "cell_type": "code",
   "execution_count": null,
   "id": "50ce526d",
   "metadata": {},
   "outputs": [],
   "source": [
    "request = youtube.channels().list(part='contentDetails',id=\"UCaXklPDifVyCBB352y2_QFQ\")\n",
    "response = request.execute()\n",
    "uploads = response[\"items\"][0][\"contentDetails\"][\"relatedPlaylists\"][\"uploads\"]"
   ]
  },
  {
   "cell_type": "code",
   "execution_count": null,
   "id": "89dee4f1",
   "metadata": {},
   "outputs": [],
   "source": [
    "request = youtube.playlistItems().list(part=\"id,contentDetails\",playlistId=uploads)\n",
    "response = request.execute()"
   ]
  },
  {
   "cell_type": "code",
   "execution_count": null,
   "id": "6fe0472f",
   "metadata": {},
   "outputs": [],
   "source": [
    "response"
   ]
  },
  {
   "cell_type": "code",
   "execution_count": null,
   "id": "3db210ee",
   "metadata": {},
   "outputs": [],
   "source": [
    "someId = response['items'][0]['contentDetails']['videoId']"
   ]
  },
  {
   "cell_type": "code",
   "execution_count": null,
   "id": "6686ff95",
   "metadata": {},
   "outputs": [],
   "source": [
    "someId"
   ]
  },
  {
   "cell_type": "code",
   "execution_count": null,
   "id": "c57aed32",
   "metadata": {},
   "outputs": [],
   "source": [
    "request = youtube.videos().list(part='contentDetails,recordingDetails,statistics,status,topicDetails',id=someId)\n",
    "response = request.execute()\n",
    "response"
   ]
  },
  {
   "cell_type": "code",
   "execution_count": null,
   "id": "840f3ddc",
   "metadata": {},
   "outputs": [],
   "source": []
  }
 ],
 "metadata": {
  "kernelspec": {
   "display_name": "Python 3",
   "language": "python",
   "name": "python3"
  },
  "language_info": {
   "codemirror_mode": {
    "name": "ipython",
    "version": 3
   },
   "file_extension": ".py",
   "mimetype": "text/x-python",
   "name": "python",
   "nbconvert_exporter": "python",
   "pygments_lexer": "ipython3",
   "version": "3.8.5"
  }
 },
 "nbformat": 4,
 "nbformat_minor": 5
}
